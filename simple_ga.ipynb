{
  "cells": [
    {
      "cell_type": "markdown",
      "metadata": {
        "nteract": {
          "transient": {
            "deleting": false
          }
        }
      },
      "source": [
        "# Prosty algorytm ewolucyjny\n",
        "\n",
        "Przykład **ilustracyjny** - pokazuje jak bardzo proste obliczenia mogą prowadzić do uzyskania rozwiązań nietrywialnych problemów. \n",
        "Jeśli zainteresowała Cię tematyka Algorytmów Ewolucyjnych / Genetycznych - zachęcam do zgłębienia wiedzy na ten temat.\n",
        "\n",
        "Poniżej prezentujemy algorytm genetyczny do rozwiązywania równań z jedną niewiadomą, postaci: $f(x) = 0$ dla *dowolnego* $f\\colon[0,1]\\to\\mathbb{R}$. Nie zakładamy *niczego* specjalnego o $f$. Zwróćmy uwagę, że równanie postaci $f(x) = 0$ to najbardziej ogólna postać **dowolnego** równania z jedną niewiadomą! Zero po prawej stronie równania, możemy zapewnić w dowolnym równaniu przenosząc składniki z prawej na lewą stronę stosując metody znane ze szkoły podstawowej. Zatem rozwiązywany przez nas problem, to w istocie poszukiwanie algorytmu, który umie rozwiązać *dowolne* równanie. \n",
        "\n",
        "Jeśli istnieje conajmniej jedno rozwiązanie tego równania, algorytm powinien zwrócić jego (bardzo dobre) przybliżenie. Jeśli istnieje więcej niż jedno rozwiązanie, algorytm powinien znaleźć przybliżenie jednego z rozwiązań. Jeśli rozwiązanie nie istnieje, algorytm może zwrócić cokolwiek.\n",
        "\n",
        "Oczywiście pamiętajmy o tym, że jest to przykład bardzo prosty i z pewnością da się dobrać równania, których ten algorytm nie umie rozwiązać. Ponadto, formalnie rzecz biorąc nie otrzymujemy tu rozwiązania, a jedynie przybliżenie rozwiązania. Z drugiej jednak strony, algorytm radzi sobie bardzo dobrze z dużą klasą równań - nawet z takimi, których nie da się rozwiązać analitycznie (np. na kartce papieru, stosując jakieś przekształcenia i wyliczenia). "
      ]
    },
    {
      "cell_type": "code",
      "execution_count": 1,
      "metadata": {
        "collapsed": false,
        "execution": {
          "iopub.execute_input": "2022-03-14T10:04:00.362Z",
          "iopub.status.busy": "2022-03-14T10:04:00.355Z",
          "iopub.status.idle": "2022-03-14T10:04:00.447Z",
          "shell.execute_reply": "2022-03-14T10:04:00.943Z"
        },
        "jupyter": {
          "outputs_hidden": false,
          "source_hidden": false
        },
        "nteract": {
          "transient": {
            "deleting": false
          }
        }
      },
      "outputs": [],
      "source": [
        "import numpy as np\n",
        "import matplotlib.pyplot as plt"
      ]
    },
    {
      "cell_type": "markdown",
      "metadata": {
        "nteract": {
          "transient": {
            "deleting": false
          }
        }
      },
      "source": [
        "Poniższa funkcja zapewnia nam, że $x$ nigdy nie trafi poza przedział $[0,1]$."
      ]
    },
    {
      "cell_type": "code",
      "execution_count": 2,
      "metadata": {
        "collapsed": false,
        "execution": {
          "iopub.execute_input": "2022-03-14T10:04:00.471Z",
          "iopub.status.busy": "2022-03-14T10:04:00.461Z",
          "iopub.status.idle": "2022-03-14T10:04:00.485Z",
          "shell.execute_reply": "2022-03-14T10:04:00.948Z"
        },
        "jupyter": {
          "outputs_hidden": false,
          "source_hidden": false
        },
        "nteract": {
          "transient": {
            "deleting": false
          }
        }
      },
      "outputs": [],
      "source": [
        "def interval(x):\n",
        "    return np.clip(x, 0.0, 1.0)"
      ]
    },
    {
      "cell_type": "markdown",
      "metadata": {
        "nteract": {
          "transient": {
            "deleting": false
          }
        }
      },
      "source": [
        "Sprawdźmy czy zdefiniowana przez nas funkcja działa:"
      ]
    },
    {
      "cell_type": "code",
      "execution_count": 3,
      "metadata": {
        "collapsed": false,
        "execution": {
          "iopub.execute_input": "2022-03-14T10:04:00.509Z",
          "iopub.status.busy": "2022-03-14T10:04:00.499Z",
          "iopub.status.idle": "2022-03-14T10:04:00.527Z",
          "shell.execute_reply": "2022-03-14T10:04:00.952Z"
        },
        "jupyter": {
          "outputs_hidden": false,
          "source_hidden": false
        },
        "nteract": {
          "transient": {
            "deleting": false
          }
        }
      },
      "outputs": [
        {
          "name": "stdout",
          "output_type": "stream",
          "text": [
            "0.0\n",
            "0.1\n",
            "1.0\n"
          ]
        }
      ],
      "source": [
        "print(interval(-0.1))\n",
        "print(interval(0.1))\n",
        "print(interval(1.1))"
      ]
    },
    {
      "cell_type": "markdown",
      "metadata": {
        "nteract": {
          "transient": {
            "deleting": false
          }
        }
      },
      "source": [
        "Dwie podstawowe operacje algorytmu ewolucyjnego to **krzyżowanie** (_ang. cross-over_) i **mutacja** (_ang. mutation_). Poniższe dwie funkcje implementują proste operacje krzyżowania i mutacji, odpowiednie dla $x\\in[0,1]$. W przypadku gdy poszukujemy rozwiązania w innym zbiorze, funkcje te mogą wymagać poprawy. Warto zauważyć, że są to bardzo proste warianty tych funkcji. W bardziej złożonych problemach stosuje się nieco inne warianty - jednak idea pozostaje dokładnie taka sama. Krzyżowanie ma \"wyprodukować\" wartość dziedziczącą nieco cech jednego i drugiego rodzica, natomiast mutacja ma delikatnie zaburzyć daną wartość."
      ]
    },
    {
      "cell_type": "code",
      "execution_count": 4,
      "metadata": {
        "collapsed": false,
        "execution": {
          "iopub.execute_input": "2022-03-14T10:04:00.546Z",
          "iopub.status.busy": "2022-03-14T10:04:00.538Z",
          "iopub.status.idle": "2022-03-14T10:04:00.560Z",
          "shell.execute_reply": "2022-03-14T10:04:00.957Z"
        },
        "jupyter": {
          "outputs_hidden": false,
          "source_hidden": false
        },
        "nteract": {
          "transient": {
            "deleting": false
          }
        }
      },
      "outputs": [],
      "source": [
        "def cross(x, y, prop = 0.5):\n",
        "    return 0.5 * x + (1 - prop) * y\n",
        "\n",
        "def mutate(x, mut_strength = 0.001):\n",
        "    return interval(x + np.random.normal(loc=0.0, scale=mut_strength))"
      ]
    },
    {
      "cell_type": "markdown",
      "metadata": {
        "nteract": {
          "transient": {
            "deleting": false
          }
        }
      },
      "source": [
        "Zobaczmy jak w praktyce działają te operacje:"
      ]
    },
    {
      "cell_type": "code",
      "execution_count": 5,
      "metadata": {
        "collapsed": false,
        "execution": {
          "iopub.execute_input": "2022-03-14T10:04:00.578Z",
          "iopub.status.busy": "2022-03-14T10:04:00.571Z",
          "iopub.status.idle": "2022-03-14T10:04:00.596Z",
          "shell.execute_reply": "2022-03-14T10:04:00.961Z"
        },
        "jupyter": {
          "outputs_hidden": false,
          "source_hidden": false
        },
        "nteract": {
          "transient": {
            "deleting": false
          }
        }
      },
      "outputs": [
        {
          "name": "stdout",
          "output_type": "stream",
          "text": [
            "Crossover 0.1 i 0.9 to:  0.5\n",
            "Kilka mutacji osobnika x=0.5: \n",
            "0.4991718416063353\n",
            "0.49943061207330447\n",
            "0.4992834899683008\n",
            "0.5013743195916867\n",
            "0.49987414206369757\n",
            "0.4994231011053133\n",
            "0.4999944799436723\n",
            "0.49951780784751254\n",
            "0.4994739385856945\n",
            "0.4997375702441421\n"
          ]
        }
      ],
      "source": [
        "print(\"Crossover 0.1 i 0.9 to: \", cross(0.1, 0.9))\n",
        "\n",
        "print(\"Kilka mutacji osobnika x=0.5: \")\n",
        "for _ in range(10):\n",
        "    print(mutate(0.5))"
      ]
    },
    {
      "cell_type": "markdown",
      "metadata": {
        "nteract": {
          "transient": {
            "deleting": false
          }
        }
      },
      "source": [
        "Teraz definiujemy funkcje odpowiedzialne za wyliczanie wartości tzw. **funkcji dopasowania** (_ang. fitness function_). Funkcja dopasowania mówi o tym na ile dany osobnik sprawdza się jako rozwiązanie. W naszym przypadku, będzie to po prostu wartość bezwzględna z funkcji $f$ stanowiącej lewą stronę naszego równania $f(x) = 0$.\n",
        "\n",
        "Funkcja *fitness_on_population* stosuje funkcję $f$ na całej zadanej populacji.\n",
        "\n",
        "Funkcja *normalized_fitness* transformuje otrzymane wartości funkcji dopasowania, tak aby: (a) sumowały się do 1, (b) wartość najwyższa odpowiadała najlepszemu rozwiązaniu. Dzięki temu wartości te idealnie nadają się do użycia w funkcji *np.random.choice* jako **prawdopodobieństwa** wyboru. \n"
      ]
    },
    {
      "cell_type": "code",
      "execution_count": 6,
      "metadata": {
        "collapsed": false,
        "execution": {
          "iopub.execute_input": "2022-03-14T10:04:00.615Z",
          "iopub.status.busy": "2022-03-14T10:04:00.608Z",
          "iopub.status.idle": "2022-03-14T10:04:00.627Z",
          "shell.execute_reply": "2022-03-14T10:04:00.965Z"
        },
        "jupyter": {
          "outputs_hidden": false,
          "source_hidden": false
        },
        "nteract": {
          "transient": {
            "deleting": false
          }
        }
      },
      "outputs": [],
      "source": [
        "def fitness_on_population(population, func):\n",
        "    return np.abs(np.vectorize(func)(population))\n",
        "\n",
        "def normalized_fitness(population, func):\n",
        "    res = fitness_on_population(population, func)\n",
        "    res = 1.0 - (res / np.max(res))\n",
        "    return res / np.sum(res)\n",
        "    "
      ]
    },
    {
      "cell_type": "markdown",
      "metadata": {
        "nteract": {
          "transient": {
            "deleting": false
          }
        }
      },
      "source": [
        "Zobaczmy jak użyć zdefiniowaną przez nas funkcje."
      ]
    },
    {
      "cell_type": "code",
      "execution_count": 7,
      "metadata": {},
      "outputs": [
        {
          "name": "stdout",
          "output_type": "stream",
          "text": [
            "[0.  0.1 0.2 0.3 0.4 0.5 0.6 0.7 0.8 0.9 1. ]\n"
          ]
        }
      ],
      "source": [
        "test_func = lambda x: x**2-0.5\n",
        "test_population = np.arange(11) * 0.1\n",
        "print(test_population)"
      ]
    },
    {
      "cell_type": "code",
      "execution_count": 8,
      "metadata": {
        "collapsed": false,
        "execution": {
          "iopub.execute_input": "2022-03-14T10:04:00.646Z",
          "iopub.status.busy": "2022-03-14T10:04:00.639Z",
          "iopub.status.idle": "2022-03-14T10:04:00.662Z",
          "shell.execute_reply": "2022-03-14T10:04:00.969Z"
        },
        "jupyter": {
          "outputs_hidden": false,
          "source_hidden": false
        },
        "nteract": {
          "transient": {
            "deleting": false
          }
        }
      },
      "outputs": [
        {
          "data": {
            "text/plain": [
              "array([0.5 , 0.49, 0.46, 0.41, 0.34, 0.25, 0.14, 0.01, 0.14, 0.31, 0.5 ])"
            ]
          },
          "execution_count": 8,
          "metadata": {},
          "output_type": "execute_result"
        }
      ],
      "source": [
        "fitness_on_population(test_population, test_func)"
      ]
    },
    {
      "cell_type": "code",
      "execution_count": 9,
      "metadata": {},
      "outputs": [
        {
          "data": {
            "text/plain": [
              "array([0.        , 0.00512821, 0.02051282, 0.04615385, 0.08205128,\n",
              "       0.12820513, 0.18461538, 0.25128205, 0.18461538, 0.0974359 ,\n",
              "       0.        ])"
            ]
          },
          "execution_count": 9,
          "metadata": {},
          "output_type": "execute_result"
        }
      ],
      "source": [
        "normalized_fitness(test_population, test_func)"
      ]
    },
    {
      "cell_type": "markdown",
      "metadata": {
        "nteract": {
          "transient": {
            "deleting": false
          }
        }
      },
      "source": [
        "A tak wyniki tych funkcji wyglądają na wykresie. Zwróć uwagę na kształt wykresu. "
      ]
    },
    {
      "cell_type": "code",
      "execution_count": 10,
      "metadata": {
        "collapsed": false,
        "execution": {
          "iopub.execute_input": "2022-03-14T10:04:00.753Z",
          "iopub.status.busy": "2022-03-14T10:04:00.746Z",
          "iopub.status.idle": "2022-03-14T10:04:00.772Z",
          "shell.execute_reply": "2022-03-14T10:04:00.983Z"
        },
        "jupyter": {
          "outputs_hidden": false,
          "source_hidden": false
        },
        "nteract": {
          "transient": {
            "deleting": false
          }
        }
      },
      "outputs": [
        {
          "data": {
            "image/png": "[encoded data removed]",
            "text/plain": [
              "<Figure size 640x480 with 1 Axes>"
            ]
          },
          "metadata": {},
          "output_type": "display_data"
        }
      ],
      "source": [
        "test_population = np.arange(101) * 0.01\n",
        "\n",
        "X = test_population\n",
        "\n",
        "Y = fitness_on_population(test_population, test_func)\n",
        "plt.plot(X, Y)\n",
        "\n",
        "Y_norm = normalized_fitness(test_population, test_func)\n",
        "plt.plot(X, Y_norm)\n",
        "\n",
        "Y_func = list(map(test_func, X))\n",
        "plt.plot(X, Y_func)\n",
        "\n",
        "plt.show()"
      ]
    },
    {
      "cell_type": "markdown",
      "metadata": {
        "nteract": {
          "transient": {
            "deleting": false
          }
        }
      },
      "source": [
        "Na bazie funkcji dopasowania (fitness), możemy zdefiniować ostatni z operatorów genetycznych, czyli operator **selekcji** / wyboru. Stosujemy wybór losowy, z prawdopodobieństwem wyboru proporocjonalnym do wartości funkcji dopasowania. Podobnie jak w przypadku operatorów mutacji i krzyżowania, istnieje wiele wariantów tego operatora. Warto zwrócić uwagę, że wszystkie 3 operatory algorytmu genetycznego **nie** zależą od definicji funkcji dopasowania. Jedynie sama funkcja dopasowania ma związek z rozwiązywanym przez nas problemem i może być traktowana jako wejście algorytmu. Operatory genetyczne są natomiast czymś uniwersalnym co _powinno_ działać w wielu przypadkach. Oczywiście jednak, zależnie od poziomu złożoności naszego problemu, może istnieć konieczność modyfikacji tych ogólnych operatorów, tak aby otrzymać lepsze wyniki."
      ]
    },
    {
      "cell_type": "code",
      "execution_count": 11,
      "metadata": {
        "collapsed": false,
        "execution": {
          "iopub.execute_input": "2022-03-14T10:04:00.791Z",
          "iopub.status.busy": "2022-03-14T10:04:00.783Z",
          "iopub.status.idle": "2022-03-14T10:04:00.804Z",
          "shell.execute_reply": "2022-03-14T10:04:00.987Z"
        },
        "jupyter": {
          "outputs_hidden": false,
          "source_hidden": false
        },
        "nteract": {
          "transient": {
            "deleting": false
          }
        }
      },
      "outputs": [],
      "source": [
        "def choice(population, normalized_fitness_values):\n",
        "    return np.random.choice(population, 1, p=normalized_fitness_values)[0]"
      ]
    },
    {
      "cell_type": "markdown",
      "metadata": {
        "nteract": {
          "transient": {
            "deleting": false
          }
        }
      },
      "source": [
        "Funkcja wyboru nie jest deterministyczna - za każdym uruchomieniem może dać nam inny wyniki. Ilustruje to poniższy prosty eksperyment w którym 100 razy wybieramy losowo element, a następnie na histogramie pokazujemy jak często poszczególne elementy zostały wybrane. "
      ]
    },
    {
      "cell_type": "code",
      "execution_count": 12,
      "metadata": {
        "collapsed": false,
        "execution": {
          "iopub.execute_input": "2022-03-14T10:04:00.825Z",
          "iopub.status.busy": "2022-03-14T10:04:00.817Z",
          "iopub.status.idle": "2022-03-14T10:04:00.848Z",
          "shell.execute_reply": "2022-03-14T10:04:00.991Z"
        },
        "jupyter": {
          "outputs_hidden": false,
          "source_hidden": false
        },
        "nteract": {
          "transient": {
            "deleting": false
          }
        }
      },
      "outputs": [
        {
          "data": {
            "image/png": "[encoded data removed]",
            "text/plain": [
              "<Figure size 640x480 with 1 Axes>"
            ]
          },
          "metadata": {},
          "output_type": "display_data"
        },
        {
          "name": "stdout",
          "output_type": "stream",
          "text": [
            "[0.08 0.15 0.17 0.21 0.29 0.3  0.32 0.33 0.38 0.39 0.41 0.41 0.43 0.43\n",
            " 0.43 0.43 0.45 0.46 0.47 0.47 0.47 0.49 0.49 0.49 0.5  0.5  0.51 0.51\n",
            " 0.51 0.52 0.53 0.53 0.54 0.54 0.55 0.56 0.56 0.58 0.58 0.61 0.62 0.62\n",
            " 0.62 0.63 0.64 0.64 0.64 0.65 0.65 0.66 0.67 0.67 0.67 0.68 0.69 0.69\n",
            " 0.69 0.7  0.7  0.71 0.71 0.71 0.71 0.71 0.72 0.72 0.73 0.74 0.74 0.74\n",
            " 0.74 0.74 0.75 0.75 0.75 0.75 0.76 0.76 0.76 0.76 0.77 0.77 0.77 0.77\n",
            " 0.78 0.78 0.78 0.79 0.79 0.8  0.82 0.84 0.84 0.85 0.87 0.88 0.88 0.89\n",
            " 0.89 0.96]\n"
          ]
        }
      ],
      "source": [
        "X = np.arange(101) * 0.01                            # dummy population\n",
        "Y = normalized_fitness(X, lambda x: x**2-0.5)        # fitness values\n",
        "\n",
        "choices = np.sort([choice(X,Y) for _ in range(100)])\n",
        "\n",
        "plt.hist(choices, bins=X)\n",
        "plt.show()\n",
        "print(choices)"
      ]
    },
    {
      "cell_type": "markdown",
      "metadata": {
        "nteract": {
          "transient": {
            "deleting": false
          }
        }
      },
      "source": [
        "## Implementacja głównego algorytmu\n",
        "Mając za sobą definicję funkcji dopasowania (_fitness_), operatorów mutacji (_mutate_), krzyżowania (_cross-over_) oraz wyboru (_selection_), może w końcu podać implementację samego algorytmu genetycznego. Algorytm ten startuje od losowej populacji osobników - kandydatów na rozwiązania, a następnie przez zadaną liczbę iteracji produkuje kolejne populacje, bazując na populacji porzedniej i zdefiniowanych operatorach. Ten sam proces powtarzany jest w kółko i za każdym razem jest taki sam - zmienia się jednak sama populacja, z początkowego chaosu wyłania się porządek - coraz silniejsze osobniki / kandydaci na rozwiązanie zaczynają dominować a ich cechy są propagowane dalej. "
      ]
    },
    {
      "cell_type": "code",
      "execution_count": 13,
      "metadata": {
        "collapsed": false,
        "execution": {
          "iopub.execute_input": "2022-03-14T10:04:00.866Z",
          "iopub.status.busy": "2022-03-14T10:04:00.859Z",
          "iopub.status.idle": "2022-03-14T10:04:00.879Z",
          "shell.execute_reply": "2022-03-14T10:04:00.995Z"
        },
        "jupyter": {
          "outputs_hidden": false,
          "source_hidden": false
        },
        "nteract": {
          "transient": {
            "deleting": false
          }
        }
      },
      "outputs": [],
      "source": [
        "def ga_solve(func, population_size = 20, iterations = 1000):\n",
        "    population = np.random.random(population_size)\n",
        "\n",
        "    for _ in range(iterations):\n",
        "        fitness_results = normalized_fitness(population, func)\n",
        "        population = np.array([mutate(\n",
        "                                          cross(\n",
        "                                                choice(population, fitness_results), \n",
        "                                                choice(population, fitness_results)\n",
        "                                                )\n",
        "                                        ) for _ in range(population_size)])\n",
        "    \n",
        "    return population[int(np.argmin(fitness_on_population(population, func)))]    "
      ]
    },
    {
      "cell_type": "markdown",
      "metadata": {
        "nteract": {
          "transient": {
            "deleting": false
          }
        }
      },
      "source": [
        "# Przykłady"
      ]
    },
    {
      "cell_type": "markdown",
      "metadata": {},
      "source": [
        "### Przykład 1. Równanie kwadratowe.\n",
        "\n",
        "Równanie $x^2 - \\frac{1}{2} = 0$ dla $x\\in[0,1]$."
      ]
    },
    {
      "cell_type": "code",
      "execution_count": 14,
      "metadata": {
        "collapsed": false,
        "execution": {
          "iopub.execute_input": "2022-03-14T10:04:00.934Z",
          "iopub.status.busy": "2022-03-14T10:04:00.925Z",
          "iopub.status.idle": "2022-03-14T10:04:21.966Z",
          "shell.execute_reply": "2022-03-14T10:04:21.980Z"
        },
        "jupyter": {
          "outputs_hidden": false,
          "source_hidden": false
        },
        "nteract": {
          "transient": {
            "deleting": false
          }
        }
      },
      "outputs": [
        {
          "name": "stdout",
          "output_type": "stream",
          "text": [
            "Best candidate:  0.7005121162668959\n",
            "Error (value of |f(best candidate)|):  0.009282774963274898\n",
            "Exact solution:  0.7071067811865475\n",
            "Difference between best and exact:  0.0065946649196515494\n"
          ]
        }
      ],
      "source": [
        "f = lambda x: x**2 - 0.5\n",
        "\n",
        "best_candidate = ga_solve(f, population_size = 50, iterations = 50)\n",
        "print(\"Best candidate: \", best_candidate)\n",
        "print(\"Error (value of |f(best candidate)|): \", np.abs(f(best_candidate)))\n",
        "\n",
        "exact = 1/np.sqrt(2)\n",
        "print(\"Exact solution: \", exact)\n",
        "print(\"Difference between best and exact: \", np.abs(best_candidate - exact))\n"
      ]
    },
    {
      "cell_type": "markdown",
      "metadata": {},
      "source": [
        "### Przykład 2. Równanie trygonometryczne.\n",
        "\n",
        "Równanie $\\sin (\\pi\\, x) - \\frac{1}{2} = 0$ dla $x\\in[0,1]$."
      ]
    },
    {
      "cell_type": "code",
      "execution_count": 15,
      "metadata": {},
      "outputs": [
        {
          "name": "stdout",
          "output_type": "stream",
          "text": [
            "Best candidate:  0.16665581485891112\n",
            "Error (value of |f(best candidate)|):  2.9524793571433783e-05\n",
            "Exact solutions:  [0.16666667 0.83333333]\n",
            "Difference between best and exact:  [1.08518078e-05 6.66677518e-01]\n"
          ]
        }
      ],
      "source": [
        "f = lambda x: np.sin(np.pi * x) - 0.5\n",
        "\n",
        "best_candidate = ga_solve(f, population_size = 50, iterations = 50)\n",
        "print(\"Best candidate: \", best_candidate)\n",
        "print(\"Error (value of |f(best candidate)|): \", np.abs(f(best_candidate)))\n",
        "\n",
        "exact = np.array([1/6, 5/6])\n",
        "print(\"Exact solutions: \", exact)\n",
        "print(\"Difference between best and exact: \", np.abs(best_candidate - exact))\n"
      ]
    },
    {
      "cell_type": "markdown",
      "metadata": {},
      "source": [
        "### Przykład 3. Równanie logarytmiczne.\n",
        "\n",
        "Równanie $\\log_2(10\\,x) - \\log_{10}(2\\, x) = 0$ dla $x\\in[0,1]$."
      ]
    },
    {
      "cell_type": "code",
      "execution_count": 16,
      "metadata": {},
      "outputs": [
        {
          "name": "stdout",
          "output_type": "stream",
          "text": [
            "Best candidate:  0.04995875919593167\n",
            "Error (value of |f(best candidate)|):  0.0008320882045700362\n",
            "Exact solutions:  0.05\n",
            "Difference between best and exact:  4.1240804068330694e-05\n"
          ]
        }
      ],
      "source": [
        "f = lambda x: np.log2(10 * x) - np.log10(2 * x)\n",
        "\n",
        "best_candidate = ga_solve(f, population_size = 50, iterations = 1000)\n",
        "print(\"Best candidate: \", best_candidate)\n",
        "print(\"Error (value of |f(best candidate)|): \", np.abs(f(best_candidate)))\n",
        "\n",
        "exact = 1/20\n",
        "print(\"Exact solutions: \", exact)\n",
        "print(\"Difference between best and exact: \", np.abs(best_candidate - exact))\n"
      ]
    },
    {
      "cell_type": "markdown",
      "metadata": {},
      "source": [
        "### Przykład 4. Równanie kwadratowo-trygonometryczno-logarytmiczne.\n",
        "\n",
        "Równanie $-\\log_2(x) - x^2 + \\sin(2\\pi\\,x) = 0$ dla $x\\in[0,1]$.\n",
        "\n",
        "W tym przypadku zaczniemy od narysowania wykresu funkcji $|f|$, bo nie każdy jest w stanie sobie ją wyobrazić... "
      ]
    },
    {
      "cell_type": "code",
      "execution_count": 17,
      "metadata": {},
      "outputs": [
        {
          "data": {
            "image/png": "[encoded data removed]",
            "text/plain": [
              "<Figure size 640x480 with 1 Axes>"
            ]
          },
          "metadata": {},
          "output_type": "display_data"
        }
      ],
      "source": [
        "f = lambda x: -1.0 * np.log2(x) - x**2 + np.sin(2.0 * np.pi * x)\n",
        "\n",
        "\n",
        "test_population = np.arange(1, 1001) * 0.001\n",
        "X = test_population\n",
        "Y = fitness_on_population(test_population, f)\n",
        "plt.plot(X, Y)\n",
        "plt.show()"
      ]
    },
    {
      "cell_type": "code",
      "execution_count": 18,
      "metadata": {},
      "outputs": [
        {
          "name": "stdout",
          "output_type": "stream",
          "text": [
            "Best candidate:  0.576474732763846\n",
            "Error (value of |f(best candidate)|):  0.00012062658944245186\n",
            "Wolfram Alpha approximate solutions:  0.5764878058141302\n",
            "Difference between best and Wolfram Alpha approx.:  1.3073050284195809e-05\n"
          ]
        }
      ],
      "source": [
        "best_candidate = ga_solve(f, population_size = 150, iterations = 1000)\n",
        "print(\"Best candidate: \", best_candidate)\n",
        "print(\"Error (value of |f(best candidate)|): \", np.abs(f(best_candidate)))\n",
        "\n",
        "wolfram = 0.57648780581413014864739351 # approximate solution produced by Wolfram Alpha, couldn't find exact solution :(\n",
        "print(\"Wolfram Alpha approximate solutions: \", wolfram)\n",
        "print(\"Difference between best and Wolfram Alpha approx.: \", np.abs(best_candidate - wolfram))\n"
      ]
    }
  ],
  "metadata": {
    "gist_id": "c1c6495c74072d8a7ee08c0d78854d04",
    "kernel_info": {
      "name": "python3"
    },
    "kernelspec": {
      "argv": [
        "/usr/local/opt/python/bin/python3.7",
        "-m",
        "ipykernel_launcher",
        "-f",
        "{connection_file}"
      ],
      "display_name": "Python 3",
      "language": "python",
      "name": "python3"
    },
    "language_info": {
      "codemirror_mode": {
        "name": "ipython",
        "version": 3
      },
      "file_extension": ".py",
      "mimetype": "text/x-python",
      "name": "python",
      "nbconvert_exporter": "python",
      "pygments_lexer": "ipython3",
      "version": "3.undefined.undefined"
    },
    "nteract": {
      "version": "0.28.0"
    }
  },
  "nbformat": 4,
  "nbformat_minor": 0
}
