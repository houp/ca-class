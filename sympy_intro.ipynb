{
 "cells": [
  {
   "cell_type": "markdown",
   "metadata": {},
   "source": [
    "Zaczynamy od importu biblioteki _SymPy_.\n",
    "Jeśli nie masz tej bibliteki to zainstaluj ją przez pip lub conda (https://docs.sympy.org/latest/install.html).\n",
    "Ciekawostka: SymPy używa biblioteki mpmath (https://mpmath.org), z którą warto się również zapoznać, bo pozwala radzić sobie lepiej z błędami zaokrągleń w obliczeniach zmiennopozycyjnych (_float_)."
   ]
  },
  {
   "cell_type": "code",
   "execution_count": 1,
   "metadata": {},
   "outputs": [],
   "source": [
    "import sympy as sp"
   ]
  },
  {
   "cell_type": "markdown",
   "metadata": {},
   "source": [
    "Następnie definiujemy symbole, które będą używane do wyrażania naszych wzorów (np. wielomianów). Nazwy symboli wybierami sami. Jeśli nie wiemy ile symboli będzie potrzebne, to możemy je wygenerować dynamicznie z kodu. Ale z reguły wiemy ;)"
   ]
  },
  {
   "cell_type": "code",
   "execution_count": 2,
   "metadata": {},
   "outputs": [],
   "source": [
    "x, y = sp.symbols('x y')"
   ]
  },
  {
   "cell_type": "markdown",
   "metadata": {},
   "source": [
    "Teraz może zdefiniować wieloman. W poniższym przykładzie będzie to $W(x,y) = 2\\,x\\,(1-y)$."
   ]
  },
  {
   "cell_type": "code",
   "execution_count": 3,
   "metadata": {},
   "outputs": [
    {
     "name": "stdout",
     "output_type": "stream",
     "text": [
      "2*x*(1 - y)\n"
     ]
    }
   ],
   "source": [
    "polynomial = 2*x*(1-y)\n",
    "print(polynomial)"
   ]
  },
  {
   "cell_type": "markdown",
   "metadata": {},
   "source": [
    "SymPy rozumie takie wyrażanie tak jak rozumiemy wyrażenia algebraiczne. Możemy je uprościć, rozwinąć..."
   ]
  },
  {
   "cell_type": "code",
   "execution_count": 4,
   "metadata": {},
   "outputs": [
    {
     "name": "stdout",
     "output_type": "stream",
     "text": [
      "2*x*(1 - y)\n",
      "-2*x*y + 2*x\n"
     ]
    }
   ],
   "source": [
    "print(sp.simplify(polynomial))\n",
    "print(sp.expand(polynomial))"
   ]
  },
  {
   "cell_type": "markdown",
   "metadata": {},
   "source": [
    "Możemy też na przykład policzyć pochodne względem zmiennych $x$ lub $y$."
   ]
  },
  {
   "cell_type": "code",
   "execution_count": 5,
   "metadata": {},
   "outputs": [
    {
     "name": "stdout",
     "output_type": "stream",
     "text": [
      "2 - 2*y\n",
      "-2*x\n"
     ]
    }
   ],
   "source": [
    "print(sp.diff(polynomial, x))\n",
    "print(sp.diff(polynomial, y))"
   ]
  },
  {
   "cell_type": "markdown",
   "metadata": {},
   "source": [
    "A także wyliczyć wartość wyrażenia w ustalonym punkcie. Zwróć uwagę, że wykorzystywana jest arytmetyka liczb zmienno pozycyjnych."
   ]
  },
  {
   "cell_type": "code",
   "execution_count": 6,
   "metadata": {},
   "outputs": [
    {
     "name": "stdout",
     "output_type": "stream",
     "text": [
      "-4.00000000000000\n",
      "-2.64000000000000\n"
     ]
    }
   ],
   "source": [
    "print(polynomial.evalf(subs={x:2, y:2}))\n",
    "print(polynomial.evalf(subs={x:1.2, y:2.1}))"
   ]
  },
  {
   "cell_type": "markdown",
   "metadata": {},
   "source": [
    "Stworzony wielomian jest wyrażeniem SymPy a nie funkcją. Nie możemy napisać ```polynomial(1.2, 2.1)```, ale możemy wygenerować prawdziwą funkcję Python ze zdefiniowanego wyrażenia za pomocą ```lambdify``` czyli \"zamianie na lambdę. "
   ]
  },
  {
   "cell_type": "code",
   "execution_count": 7,
   "metadata": {},
   "outputs": [
    {
     "name": "stdout",
     "output_type": "stream",
     "text": [
      "-4\n",
      "-2.64\n"
     ]
    }
   ],
   "source": [
    "f_poly = sp.lambdify([x,y], polynomial)\n",
    "\n",
    "print(f_poly(2,2))\n",
    "print(f_poly(1.2,2.1))"
   ]
  },
  {
   "cell_type": "markdown",
   "metadata": {},
   "source": [
    "Okazuje się, że funkcja wygenerowana przez SymPy za pomocą metody ```lambdify``` świetnie współpracuje z NumPy. Możemy zastosować stoworzny przez nas wielomian do macierzy NumPy (operacje wykonywane są dla każdej pozycji w wektorze / macierzy osobny). Może się to okazać bardzo pomocne przy implementacji FCAs albo ACCAs."
   ]
  },
  {
   "cell_type": "code",
   "execution_count": 8,
   "metadata": {},
   "outputs": [
    {
     "name": "stdout",
     "output_type": "stream",
     "text": [
      "[ -2  -8 -18 -32 -50 -72]\n"
     ]
    }
   ],
   "source": [
    "import numpy as np\n",
    "\n",
    "a = np.array([1,2,3,4,5,6])\n",
    "b = np.array([2,3,4,5,6,7])\n",
    "\n",
    "print(f_poly(a, b))\n"
   ]
  }
 ],
 "metadata": {
  "kernelspec": {
   "display_name": "Python 3",
   "language": "python",
   "name": "python3"
  },
  "language_info": {
   "codemirror_mode": {
    "name": "ipython",
    "version": 3
   },
   "file_extension": ".py",
   "mimetype": "text/x-python",
   "name": "python",
   "nbconvert_exporter": "python",
   "pygments_lexer": "ipython3",
   "version": "3.11.9"
  }
 },
 "nbformat": 4,
 "nbformat_minor": 2
}
