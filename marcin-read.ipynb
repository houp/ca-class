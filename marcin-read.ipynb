{
 "cells": [
  {
   "cell_type": "markdown",
   "metadata": {},
   "source": [
    "# Wczytywanie słynnych konfiguracji Marcina w Python\n",
    "\n",
    "Na podstawie programu decode.py (https://github.com/D3M80L/CA/blob/master/phd/decode.py) napisałem poniższe funkcje, które można użyć w ramach notebooka. Należy pamiętać, aby plik z konfiguracjami pobrany https://github.com/D3M80L/CA/tree/master/phd/data umieścić w tym samym folderze co nasz notebook Pythonowy.\n",
    "\n",
    "Uwaga! \n",
    "1. Moja implementacja wczytuje wszystkie konfiguracje do pamięci operacyjnej. Dla małych zbiorów danych to jest najlepsze wyjście - będzie najszybciej, ale gdybyśmy obrabiali zbiory, które ważą setki albo tysiące MB, trzebaby wymyślić inne wyjście.\n",
    "2. Moja implementacja nie jest optymalne i pewnie dla większych zbiorów da się to napisać lepiej. Nie mniej dla rozsądnych długości do kilkuset MB, powinno działać dobrze."
   ]
  },
  {
   "cell_type": "code",
   "execution_count": 23,
   "metadata": {},
   "outputs": [],
   "source": [
    "import numpy as np\n",
    "import math\n",
    "\n",
    "def convert_configuration(configuration: bytes, N: int):\n",
    "    binary_str = ''.join(f'{byte:08b}' for byte in configuration)\n",
    "    return np.array([int(bit) for bit in binary_str[:N]])\n",
    "\n",
    "def configuration_reader(file_name: str, N: int, negate: bool):\n",
    "    bytes_per_configuration = math.ceil(N / 8)\n",
    "    configurations = []\n",
    "\n",
    "    with open(file_name, 'rb') as file:\n",
    "        while True:\n",
    "            bytes_read = file.read(bytes_per_configuration)\n",
    "            if not bytes_read:\n",
    "                break\n",
    "\n",
    "            cfg = convert_configuration(bytes_read, N)\n",
    "            configurations.append(cfg)\n",
    "            \n",
    "            if negate:\n",
    "                configurations.append(1 - cfg)\n",
    "\n",
    "    return np.stack(configurations)"
   ]
  },
  {
   "cell_type": "markdown",
   "metadata": {},
   "source": [
    "Poniżej przykład użycia napisanej przeze mnie funkcji. Zwróć uwagę, że musimy jako drugi argument funkcji podać długość konfiguracji zapisanych w pliku. Format plików, które stowrzył Marcin jest taki, że plik sam z siebie \"nie wie\" jakiej długości konfiguracje są w nim zapisane - czyli tej długości nie da się odczytać ze środka pliku. \n",
    "\n",
    "Trzeci paramter mówi o tym czy w wynikowej liście mają znaleźć się też \"zanegowane\" konfiguracje. Jeśli podamy False, to wszystkie otrzymane konfiguracje będą miały gęstość mniejszą niż 0.5. A jeśli podamy True, to dostaniemy zarówno takie, których gęstość jest mniejsza jaki i większa od 0.5."
   ]
  },
  {
   "cell_type": "code",
   "execution_count": 24,
   "metadata": {},
   "outputs": [],
   "source": [
    "configurations = configuration_reader(\"ALL_N21.bin\", 21, True)\n",
    "configurations2 = configuration_reader(\"ALL_N21.bin\", 21, False)"
   ]
  },
  {
   "cell_type": "markdown",
   "metadata": {},
   "source": [
    "Poniże wyświetlam kilka pierwszych wczytanych konfiguracji, żeby sprawdzić czy to działa. "
   ]
  },
  {
   "cell_type": "code",
   "execution_count": 25,
   "metadata": {},
   "outputs": [
    {
     "name": "stdout",
     "output_type": "stream",
     "text": [
      "[[0 0 0 0 0 0 0 0 0 0 0 1 1 1 1 1 1 1 1 1 1]\n",
      " [1 1 1 1 1 1 1 1 1 1 1 0 0 0 0 0 0 0 0 0 0]\n",
      " [0 0 0 0 0 0 0 0 0 0 1 0 1 1 1 1 1 1 1 1 1]\n",
      " [1 1 1 1 1 1 1 1 1 1 0 1 0 0 0 0 0 0 0 0 0]\n",
      " [0 0 0 0 0 0 0 0 0 0 1 1 0 1 1 1 1 1 1 1 1]\n",
      " [1 1 1 1 1 1 1 1 1 1 0 0 1 0 0 0 0 0 0 0 0]\n",
      " [0 0 0 0 0 0 0 0 0 0 1 1 1 0 1 1 1 1 1 1 1]\n",
      " [1 1 1 1 1 1 1 1 1 1 0 0 0 1 0 0 0 0 0 0 0]\n",
      " [0 0 0 0 0 0 0 0 0 0 1 1 1 1 0 1 1 1 1 1 1]\n",
      " [1 1 1 1 1 1 1 1 1 1 0 0 0 0 1 0 0 0 0 0 0]]\n",
      "[[0 0 0 0 0 0 0 0 0 0 0 1 1 1 1 1 1 1 1 1 1]\n",
      " [0 0 0 0 0 0 0 0 0 0 1 0 1 1 1 1 1 1 1 1 1]\n",
      " [0 0 0 0 0 0 0 0 0 0 1 1 0 1 1 1 1 1 1 1 1]\n",
      " [0 0 0 0 0 0 0 0 0 0 1 1 1 0 1 1 1 1 1 1 1]\n",
      " [0 0 0 0 0 0 0 0 0 0 1 1 1 1 0 1 1 1 1 1 1]\n",
      " [0 0 0 0 0 0 0 0 0 0 1 1 1 1 1 0 1 1 1 1 1]\n",
      " [0 0 0 0 0 0 0 0 0 0 1 1 1 1 1 1 0 1 1 1 1]\n",
      " [0 0 0 0 0 0 0 0 0 0 1 1 1 1 1 1 1 0 1 1 1]\n",
      " [0 0 0 0 0 0 0 0 0 0 1 1 1 1 1 1 1 1 0 1 1]\n",
      " [0 0 0 0 0 0 0 0 0 0 1 1 1 1 1 1 1 1 1 0 1]]\n"
     ]
    }
   ],
   "source": [
    "print(configurations[0:10])\n",
    "print(configurations2[0:10])"
   ]
  }
 ],
 "metadata": {
  "kernelspec": {
   "display_name": "Python 3",
   "language": "python",
   "name": "python3"
  },
  "language_info": {
   "codemirror_mode": {
    "name": "ipython",
    "version": 3
   },
   "file_extension": ".py",
   "mimetype": "text/x-python",
   "name": "python",
   "nbconvert_exporter": "python",
   "pygments_lexer": "ipython3",
   "version": "3.11.7"
  }
 },
 "nbformat": 4,
 "nbformat_minor": 2
}
